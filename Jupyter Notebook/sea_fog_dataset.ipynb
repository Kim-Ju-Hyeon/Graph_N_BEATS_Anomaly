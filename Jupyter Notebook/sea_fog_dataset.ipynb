{
 "cells": [
  {
   "cell_type": "code",
   "execution_count": 1,
   "id": "5c873c9f",
   "metadata": {},
   "outputs": [],
   "source": [
    "import os\n",
    "from glob import glob\n",
    "import pickle\n",
    "\n",
    "import joblib\n",
    "\n",
    "import numpy as np\n",
    "import pandas as pd\n",
    "import matplotlib.pyplot as plt"
   ]
  },
  {
   "cell_type": "code",
   "execution_count": 2,
   "id": "cc19dbbe",
   "metadata": {},
   "outputs": [],
   "source": [
    "data_dir = glob('../src/data/SeaFog/*.csv')"
   ]
  },
  {
   "cell_type": "code",
   "execution_count": 3,
   "id": "af3c82b6",
   "metadata": {},
   "outputs": [],
   "source": [
    "data_dir.sort()"
   ]
  },
  {
   "cell_type": "code",
   "execution_count": 4,
   "id": "8b0ed688",
   "metadata": {},
   "outputs": [
    {
     "data": {
      "text/plain": [
       "['../src/data/SeaFog/302_증산도.csv',\n",
       " '../src/data/SeaFog/771_불무기도.csv',\n",
       " '../src/data/SeaFog/772_장도.csv',\n",
       " '../src/data/SeaFog/789_목포구.csv',\n",
       " '../src/data/SeaFog/SF_0008_여수 해무관측소.csv']"
      ]
     },
     "execution_count": 4,
     "metadata": {},
     "output_type": "execute_result"
    }
   ],
   "source": [
    "data_dir"
   ]
  },
  {
   "cell_type": "code",
   "execution_count": 5,
   "id": "89e5af8e",
   "metadata": {},
   "outputs": [],
   "source": [
    "col_list = ['지점 기온(°C)',\n",
    "'수온(°C)',\n",
    "'강수량 1분(mm)',\n",
    "'풍속(m/s)',\n",
    "'u',\n",
    "'v',\n",
    "\"현지기압(hPa)\",\n",
    "'해면기압(hPa)',\n",
    "'습도(%)',\n",
    "'일사(MJ/m^2)',\n",
    "'일조(Sec)',\n",
    "'T',\n",
    "'해기차(T-SST)',\n",
    "'이슬점온도(°C)',\n",
    "'기온',\n",
    "'이슬점온도(T-Td)',\n",
    "'수온',\n",
    "'이슬점온도(°C)',\n",
    "'vis']\n"
   ]
  },
  {
   "cell_type": "code",
   "execution_count": 6,
   "id": "4a0f0cbb",
   "metadata": {},
   "outputs": [],
   "source": [
    "col = ['기온(°C)',\n",
    " '수온(°C)',\n",
    " '풍속(m/s)',\n",
    " 'u',\n",
    " 'v',\n",
    " '습도(%)',\n",
    " '해기차(T-SST)',\n",
    " '이슬점온도(°C)',\n",
    " '기온-이슬점온도(T-Td)',\n",
    " '수온-이슬점온도(°C)',\n",
    " 'vis']"
   ]
  },
  {
   "cell_type": "code",
   "execution_count": 7,
   "id": "76274d2f",
   "metadata": {},
   "outputs": [],
   "source": [
    "new_col = ['t', 'st', 'ws', 'u', 'v', 'h', 'astd', \n",
    "          'dp', 't-dp', 'st-dp', 'vis']"
   ]
  },
  {
   "cell_type": "code",
   "execution_count": 8,
   "id": "22588bb6",
   "metadata": {
    "scrolled": true
   },
   "outputs": [],
   "source": [
    "temp_1 = []\n",
    "temp_2 = []\n",
    "target_col_name = []\n",
    "fog_col = []\n",
    "\n",
    "for ii, _dir in enumerate(data_dir):\n",
    "    data = pd.read_csv(_dir, index_col=0, encoding='cp949')\n",
    "    island_name = data['지점'][0]\n",
    "    data = data[data.index >= '2019-12-14 09:00:00']\n",
    "    data[f'{island_name}_Fog'] = 0\n",
    "    data.drop('지점', axis=1, inplace=True)\n",
    "    data.drop('해면기압(hPa)', axis=1, inplace=True)\n",
    "\n",
    "    \n",
    "    if ii < len(data_dir)-1:\n",
    "        data.drop('일사(MJ/m^2)', axis=1, inplace=True)\n",
    "        data.drop('일조(Sec)', axis=1, inplace=True)\n",
    "        data.drop('1분 강수량(mm)', axis=1, inplace=True)\n",
    "        data.drop('현지기압(hPa)', axis=1, inplace=True)\n",
    "        data.drop('T', axis=1, inplace=True)\n",
    "    \n",
    "    col_name_change = {col[i]:str(island_name)+'_'+new_col[i] for i in range(len(new_col))}\n",
    "    data.rename(columns=col_name_change, inplace=True)\n",
    "    \n",
    "    data.loc[data[f'{island_name}_vis'] <= 1000 , f'{island_name}_Fog'] = 1\n",
    "    data.loc[data[f'{island_name}_vis'] >= 2000 , f'{island_name}_vis'] = 2000\n",
    "    \n",
    "    df_1 = data[data.index <= '2021-06-01 23:50:00']\n",
    "    df_2 = data[data.index >= '2021-07-01 00:00:00']\n",
    "    \n",
    "    target_col_name.append(str(island_name)+'_vis')\n",
    "    fog_col.append(str(island_name)+'_Fog')\n",
    "        \n",
    "    temp_1.append(df_1)\n",
    "    temp_2.append(df_2)"
   ]
  },
  {
   "cell_type": "code",
   "execution_count": 9,
   "id": "bc733a7a",
   "metadata": {},
   "outputs": [],
   "source": [
    "dataframe_1 = pd.DataFrame()\n",
    "\n",
    "for df in temp_1:\n",
    "    dataframe_1 = pd.concat([dataframe_1, df], axis=1)\n",
    "    \n",
    "dataframe_2 = pd.DataFrame()\n",
    "\n",
    "for df in temp_2:\n",
    "    dataframe_2 = pd.concat([dataframe_2, df], axis=1)"
   ]
  },
  {
   "cell_type": "code",
   "execution_count": 10,
   "id": "33ab3469",
   "metadata": {},
   "outputs": [],
   "source": [
    "dataframe_1.dropna(inplace=True)\n",
    "dataframe_2.dropna(inplace=True)"
   ]
  },
  {
   "cell_type": "code",
   "execution_count": 11,
   "id": "7b34f4e2",
   "metadata": {},
   "outputs": [],
   "source": [
    "dataframe_1.index = pd.to_datetime(dataframe_1.index)\n",
    "dataframe_2.index = pd.to_datetime(dataframe_2.index)"
   ]
  },
  {
   "cell_type": "code",
   "execution_count": 12,
   "id": "a7b15ba1",
   "metadata": {},
   "outputs": [],
   "source": [
    "df = pd.concat([dataframe_1, dataframe_2], axis=0)"
   ]
  },
  {
   "cell_type": "code",
   "execution_count": 13,
   "id": "fdb25c08",
   "metadata": {},
   "outputs": [
    {
     "data": {
      "text/html": [
       "<div>\n",
       "<style scoped>\n",
       "    .dataframe tbody tr th:only-of-type {\n",
       "        vertical-align: middle;\n",
       "    }\n",
       "\n",
       "    .dataframe tbody tr th {\n",
       "        vertical-align: top;\n",
       "    }\n",
       "\n",
       "    .dataframe thead th {\n",
       "        text-align: right;\n",
       "    }\n",
       "</style>\n",
       "<table border=\"1\" class=\"dataframe\">\n",
       "  <thead>\n",
       "    <tr style=\"text-align: right;\">\n",
       "      <th></th>\n",
       "      <th>302_t</th>\n",
       "      <th>302_st</th>\n",
       "      <th>302_ws</th>\n",
       "      <th>302_u</th>\n",
       "      <th>302_v</th>\n",
       "      <th>302_h</th>\n",
       "      <th>302_astd</th>\n",
       "      <th>302_dp</th>\n",
       "      <th>302_t-dp</th>\n",
       "      <th>302_st-dp</th>\n",
       "      <th>...</th>\n",
       "      <th>SF_0008_ws</th>\n",
       "      <th>SF_0008_u</th>\n",
       "      <th>SF_0008_v</th>\n",
       "      <th>SF_0008_h</th>\n",
       "      <th>SF_0008_astd</th>\n",
       "      <th>SF_0008_dp</th>\n",
       "      <th>SF_0008_t-dp</th>\n",
       "      <th>SF_0008_st-dp</th>\n",
       "      <th>SF_0008_vis</th>\n",
       "      <th>SF_0008_Fog</th>\n",
       "    </tr>\n",
       "    <tr>\n",
       "      <th>time</th>\n",
       "      <th></th>\n",
       "      <th></th>\n",
       "      <th></th>\n",
       "      <th></th>\n",
       "      <th></th>\n",
       "      <th></th>\n",
       "      <th></th>\n",
       "      <th></th>\n",
       "      <th></th>\n",
       "      <th></th>\n",
       "      <th></th>\n",
       "      <th></th>\n",
       "      <th></th>\n",
       "      <th></th>\n",
       "      <th></th>\n",
       "      <th></th>\n",
       "      <th></th>\n",
       "      <th></th>\n",
       "      <th></th>\n",
       "      <th></th>\n",
       "      <th></th>\n",
       "    </tr>\n",
       "  </thead>\n",
       "  <tbody>\n",
       "    <tr>\n",
       "      <th>2019-12-14 09:10:00</th>\n",
       "      <td>7.67</td>\n",
       "      <td>10.70</td>\n",
       "      <td>4.240000</td>\n",
       "      <td>0.531895</td>\n",
       "      <td>4.198112</td>\n",
       "      <td>63.21</td>\n",
       "      <td>-3.03</td>\n",
       "      <td>0.316809</td>\n",
       "      <td>7.353191</td>\n",
       "      <td>10.383191</td>\n",
       "      <td>...</td>\n",
       "      <td>1.9125</td>\n",
       "      <td>-1.784218</td>\n",
       "      <td>0.154687</td>\n",
       "      <td>65.00</td>\n",
       "      <td>-2.950000</td>\n",
       "      <td>2.024695</td>\n",
       "      <td>6.925305</td>\n",
       "      <td>9.875305</td>\n",
       "      <td>2000.0</td>\n",
       "      <td>0</td>\n",
       "    </tr>\n",
       "    <tr>\n",
       "      <th>2019-12-14 09:20:00</th>\n",
       "      <td>7.72</td>\n",
       "      <td>10.62</td>\n",
       "      <td>4.300000</td>\n",
       "      <td>0.599620</td>\n",
       "      <td>4.235989</td>\n",
       "      <td>61.02</td>\n",
       "      <td>-2.90</td>\n",
       "      <td>-0.187520</td>\n",
       "      <td>7.907520</td>\n",
       "      <td>10.807520</td>\n",
       "      <td>...</td>\n",
       "      <td>1.6900</td>\n",
       "      <td>-1.590688</td>\n",
       "      <td>0.263196</td>\n",
       "      <td>62.10</td>\n",
       "      <td>-2.760000</td>\n",
       "      <td>1.489666</td>\n",
       "      <td>7.650334</td>\n",
       "      <td>10.410334</td>\n",
       "      <td>2000.0</td>\n",
       "      <td>0</td>\n",
       "    </tr>\n",
       "    <tr>\n",
       "      <th>2019-12-14 09:30:00</th>\n",
       "      <td>7.80</td>\n",
       "      <td>10.57</td>\n",
       "      <td>3.980000</td>\n",
       "      <td>1.161628</td>\n",
       "      <td>3.644537</td>\n",
       "      <td>60.19</td>\n",
       "      <td>-2.77</td>\n",
       "      <td>-0.320629</td>\n",
       "      <td>8.120629</td>\n",
       "      <td>10.890629</td>\n",
       "      <td>...</td>\n",
       "      <td>1.3000</td>\n",
       "      <td>0.007476</td>\n",
       "      <td>0.004024</td>\n",
       "      <td>61.75</td>\n",
       "      <td>-2.650000</td>\n",
       "      <td>1.509457</td>\n",
       "      <td>7.740543</td>\n",
       "      <td>10.390543</td>\n",
       "      <td>2000.0</td>\n",
       "      <td>0</td>\n",
       "    </tr>\n",
       "    <tr>\n",
       "      <th>2019-12-14 09:40:00</th>\n",
       "      <td>7.79</td>\n",
       "      <td>10.50</td>\n",
       "      <td>4.388889</td>\n",
       "      <td>0.645240</td>\n",
       "      <td>4.337860</td>\n",
       "      <td>61.24</td>\n",
       "      <td>-2.71</td>\n",
       "      <td>-0.061281</td>\n",
       "      <td>7.851281</td>\n",
       "      <td>10.561281</td>\n",
       "      <td>...</td>\n",
       "      <td>3.5100</td>\n",
       "      <td>1.809175</td>\n",
       "      <td>2.474179</td>\n",
       "      <td>60.20</td>\n",
       "      <td>-2.710000</td>\n",
       "      <td>1.053149</td>\n",
       "      <td>8.136851</td>\n",
       "      <td>10.846851</td>\n",
       "      <td>2000.0</td>\n",
       "      <td>0</td>\n",
       "    </tr>\n",
       "    <tr>\n",
       "      <th>2019-12-14 09:50:00</th>\n",
       "      <td>7.90</td>\n",
       "      <td>10.48</td>\n",
       "      <td>4.220000</td>\n",
       "      <td>0.792587</td>\n",
       "      <td>4.134146</td>\n",
       "      <td>61.47</td>\n",
       "      <td>-2.58</td>\n",
       "      <td>0.105694</td>\n",
       "      <td>7.794306</td>\n",
       "      <td>10.374306</td>\n",
       "      <td>...</td>\n",
       "      <td>4.4000</td>\n",
       "      <td>1.216700</td>\n",
       "      <td>4.005781</td>\n",
       "      <td>58.70</td>\n",
       "      <td>-2.900000</td>\n",
       "      <td>0.475382</td>\n",
       "      <td>8.524618</td>\n",
       "      <td>11.424618</td>\n",
       "      <td>2000.0</td>\n",
       "      <td>0</td>\n",
       "    </tr>\n",
       "    <tr>\n",
       "      <th>...</th>\n",
       "      <td>...</td>\n",
       "      <td>...</td>\n",
       "      <td>...</td>\n",
       "      <td>...</td>\n",
       "      <td>...</td>\n",
       "      <td>...</td>\n",
       "      <td>...</td>\n",
       "      <td>...</td>\n",
       "      <td>...</td>\n",
       "      <td>...</td>\n",
       "      <td>...</td>\n",
       "      <td>...</td>\n",
       "      <td>...</td>\n",
       "      <td>...</td>\n",
       "      <td>...</td>\n",
       "      <td>...</td>\n",
       "      <td>...</td>\n",
       "      <td>...</td>\n",
       "      <td>...</td>\n",
       "      <td>...</td>\n",
       "      <td>...</td>\n",
       "    </tr>\n",
       "    <tr>\n",
       "      <th>2022-06-30 23:10:00</th>\n",
       "      <td>24.25</td>\n",
       "      <td>23.00</td>\n",
       "      <td>1.150000</td>\n",
       "      <td>0.502581</td>\n",
       "      <td>-0.958005</td>\n",
       "      <td>92.37</td>\n",
       "      <td>1.25</td>\n",
       "      <td>22.986038</td>\n",
       "      <td>1.263962</td>\n",
       "      <td>0.013962</td>\n",
       "      <td>...</td>\n",
       "      <td>0.8900</td>\n",
       "      <td>0.001973</td>\n",
       "      <td>-0.868320</td>\n",
       "      <td>100.00</td>\n",
       "      <td>1.270000</td>\n",
       "      <td>24.124400</td>\n",
       "      <td>-0.004400</td>\n",
       "      <td>-1.274400</td>\n",
       "      <td>2000.0</td>\n",
       "      <td>0</td>\n",
       "    </tr>\n",
       "    <tr>\n",
       "      <th>2022-06-30 23:20:00</th>\n",
       "      <td>24.12</td>\n",
       "      <td>23.00</td>\n",
       "      <td>0.440000</td>\n",
       "      <td>0.127986</td>\n",
       "      <td>-0.258915</td>\n",
       "      <td>93.02</td>\n",
       "      <td>1.12</td>\n",
       "      <td>22.970495</td>\n",
       "      <td>1.149505</td>\n",
       "      <td>0.029505</td>\n",
       "      <td>...</td>\n",
       "      <td>0.1800</td>\n",
       "      <td>-0.085532</td>\n",
       "      <td>-0.156948</td>\n",
       "      <td>100.00</td>\n",
       "      <td>1.339000</td>\n",
       "      <td>24.194400</td>\n",
       "      <td>-0.004400</td>\n",
       "      <td>-1.343400</td>\n",
       "      <td>2000.0</td>\n",
       "      <td>0</td>\n",
       "    </tr>\n",
       "    <tr>\n",
       "      <th>2022-06-30 23:30:00</th>\n",
       "      <td>24.19</td>\n",
       "      <td>23.00</td>\n",
       "      <td>0.980000</td>\n",
       "      <td>0.546869</td>\n",
       "      <td>-0.778959</td>\n",
       "      <td>92.75</td>\n",
       "      <td>1.19</td>\n",
       "      <td>22.993040</td>\n",
       "      <td>1.196960</td>\n",
       "      <td>0.006960</td>\n",
       "      <td>...</td>\n",
       "      <td>0.1500</td>\n",
       "      <td>-0.007961</td>\n",
       "      <td>-0.127845</td>\n",
       "      <td>100.00</td>\n",
       "      <td>1.358222</td>\n",
       "      <td>24.226622</td>\n",
       "      <td>-0.004400</td>\n",
       "      <td>-1.362622</td>\n",
       "      <td>2000.0</td>\n",
       "      <td>0</td>\n",
       "    </tr>\n",
       "    <tr>\n",
       "      <th>2022-06-30 23:40:00</th>\n",
       "      <td>24.25</td>\n",
       "      <td>22.94</td>\n",
       "      <td>0.810000</td>\n",
       "      <td>0.331096</td>\n",
       "      <td>-0.638943</td>\n",
       "      <td>92.33</td>\n",
       "      <td>1.31</td>\n",
       "      <td>22.978978</td>\n",
       "      <td>1.271022</td>\n",
       "      <td>-0.038978</td>\n",
       "      <td>...</td>\n",
       "      <td>0.0800</td>\n",
       "      <td>-0.039802</td>\n",
       "      <td>-0.066698</td>\n",
       "      <td>100.00</td>\n",
       "      <td>1.352000</td>\n",
       "      <td>24.254400</td>\n",
       "      <td>-0.004400</td>\n",
       "      <td>-1.356400</td>\n",
       "      <td>2000.0</td>\n",
       "      <td>0</td>\n",
       "    </tr>\n",
       "    <tr>\n",
       "      <th>2022-06-30 23:50:00</th>\n",
       "      <td>24.27</td>\n",
       "      <td>22.90</td>\n",
       "      <td>0.920000</td>\n",
       "      <td>0.158324</td>\n",
       "      <td>-0.754990</td>\n",
       "      <td>92.23</td>\n",
       "      <td>1.37</td>\n",
       "      <td>22.981244</td>\n",
       "      <td>1.288756</td>\n",
       "      <td>-0.081244</td>\n",
       "      <td>...</td>\n",
       "      <td>0.4000</td>\n",
       "      <td>0.260854</td>\n",
       "      <td>-0.143878</td>\n",
       "      <td>100.00</td>\n",
       "      <td>1.439500</td>\n",
       "      <td>24.316900</td>\n",
       "      <td>-0.004400</td>\n",
       "      <td>-1.443900</td>\n",
       "      <td>2000.0</td>\n",
       "      <td>0</td>\n",
       "    </tr>\n",
       "  </tbody>\n",
       "</table>\n",
       "<p>96391 rows × 60 columns</p>\n",
       "</div>"
      ],
      "text/plain": [
       "                     302_t  302_st    302_ws     302_u     302_v  302_h  \\\n",
       "time                                                                      \n",
       "2019-12-14 09:10:00   7.67   10.70  4.240000  0.531895  4.198112  63.21   \n",
       "2019-12-14 09:20:00   7.72   10.62  4.300000  0.599620  4.235989  61.02   \n",
       "2019-12-14 09:30:00   7.80   10.57  3.980000  1.161628  3.644537  60.19   \n",
       "2019-12-14 09:40:00   7.79   10.50  4.388889  0.645240  4.337860  61.24   \n",
       "2019-12-14 09:50:00   7.90   10.48  4.220000  0.792587  4.134146  61.47   \n",
       "...                    ...     ...       ...       ...       ...    ...   \n",
       "2022-06-30 23:10:00  24.25   23.00  1.150000  0.502581 -0.958005  92.37   \n",
       "2022-06-30 23:20:00  24.12   23.00  0.440000  0.127986 -0.258915  93.02   \n",
       "2022-06-30 23:30:00  24.19   23.00  0.980000  0.546869 -0.778959  92.75   \n",
       "2022-06-30 23:40:00  24.25   22.94  0.810000  0.331096 -0.638943  92.33   \n",
       "2022-06-30 23:50:00  24.27   22.90  0.920000  0.158324 -0.754990  92.23   \n",
       "\n",
       "                     302_astd     302_dp  302_t-dp  302_st-dp  ...  \\\n",
       "time                                                           ...   \n",
       "2019-12-14 09:10:00     -3.03   0.316809  7.353191  10.383191  ...   \n",
       "2019-12-14 09:20:00     -2.90  -0.187520  7.907520  10.807520  ...   \n",
       "2019-12-14 09:30:00     -2.77  -0.320629  8.120629  10.890629  ...   \n",
       "2019-12-14 09:40:00     -2.71  -0.061281  7.851281  10.561281  ...   \n",
       "2019-12-14 09:50:00     -2.58   0.105694  7.794306  10.374306  ...   \n",
       "...                       ...        ...       ...        ...  ...   \n",
       "2022-06-30 23:10:00      1.25  22.986038  1.263962   0.013962  ...   \n",
       "2022-06-30 23:20:00      1.12  22.970495  1.149505   0.029505  ...   \n",
       "2022-06-30 23:30:00      1.19  22.993040  1.196960   0.006960  ...   \n",
       "2022-06-30 23:40:00      1.31  22.978978  1.271022  -0.038978  ...   \n",
       "2022-06-30 23:50:00      1.37  22.981244  1.288756  -0.081244  ...   \n",
       "\n",
       "                     SF_0008_ws  SF_0008_u  SF_0008_v  SF_0008_h  \\\n",
       "time                                                               \n",
       "2019-12-14 09:10:00      1.9125  -1.784218   0.154687      65.00   \n",
       "2019-12-14 09:20:00      1.6900  -1.590688   0.263196      62.10   \n",
       "2019-12-14 09:30:00      1.3000   0.007476   0.004024      61.75   \n",
       "2019-12-14 09:40:00      3.5100   1.809175   2.474179      60.20   \n",
       "2019-12-14 09:50:00      4.4000   1.216700   4.005781      58.70   \n",
       "...                         ...        ...        ...        ...   \n",
       "2022-06-30 23:10:00      0.8900   0.001973  -0.868320     100.00   \n",
       "2022-06-30 23:20:00      0.1800  -0.085532  -0.156948     100.00   \n",
       "2022-06-30 23:30:00      0.1500  -0.007961  -0.127845     100.00   \n",
       "2022-06-30 23:40:00      0.0800  -0.039802  -0.066698     100.00   \n",
       "2022-06-30 23:50:00      0.4000   0.260854  -0.143878     100.00   \n",
       "\n",
       "                     SF_0008_astd  SF_0008_dp  SF_0008_t-dp  SF_0008_st-dp  \\\n",
       "time                                                                         \n",
       "2019-12-14 09:10:00     -2.950000    2.024695      6.925305       9.875305   \n",
       "2019-12-14 09:20:00     -2.760000    1.489666      7.650334      10.410334   \n",
       "2019-12-14 09:30:00     -2.650000    1.509457      7.740543      10.390543   \n",
       "2019-12-14 09:40:00     -2.710000    1.053149      8.136851      10.846851   \n",
       "2019-12-14 09:50:00     -2.900000    0.475382      8.524618      11.424618   \n",
       "...                           ...         ...           ...            ...   \n",
       "2022-06-30 23:10:00      1.270000   24.124400     -0.004400      -1.274400   \n",
       "2022-06-30 23:20:00      1.339000   24.194400     -0.004400      -1.343400   \n",
       "2022-06-30 23:30:00      1.358222   24.226622     -0.004400      -1.362622   \n",
       "2022-06-30 23:40:00      1.352000   24.254400     -0.004400      -1.356400   \n",
       "2022-06-30 23:50:00      1.439500   24.316900     -0.004400      -1.443900   \n",
       "\n",
       "                     SF_0008_vis  SF_0008_Fog  \n",
       "time                                           \n",
       "2019-12-14 09:10:00       2000.0            0  \n",
       "2019-12-14 09:20:00       2000.0            0  \n",
       "2019-12-14 09:30:00       2000.0            0  \n",
       "2019-12-14 09:40:00       2000.0            0  \n",
       "2019-12-14 09:50:00       2000.0            0  \n",
       "...                          ...          ...  \n",
       "2022-06-30 23:10:00       2000.0            0  \n",
       "2022-06-30 23:20:00       2000.0            0  \n",
       "2022-06-30 23:30:00       2000.0            0  \n",
       "2022-06-30 23:40:00       2000.0            0  \n",
       "2022-06-30 23:50:00       2000.0            0  \n",
       "\n",
       "[96391 rows x 60 columns]"
      ]
     },
     "execution_count": 13,
     "metadata": {},
     "output_type": "execute_result"
    }
   ],
   "source": [
    "df"
   ]
  },
  {
   "cell_type": "code",
   "execution_count": 14,
   "id": "69af9cda",
   "metadata": {},
   "outputs": [],
   "source": [
    "df.to_csv('./sea_fog_dataset.csv')"
   ]
  },
  {
   "cell_type": "code",
   "execution_count": null,
   "id": "c32f1a4b",
   "metadata": {},
   "outputs": [],
   "source": [
    "num_timesteps_in = 60\n",
    "num_timesteps_out = 6\n",
    "\n",
    "indices = [\n",
    "    (i, i + (num_timesteps_in + num_timesteps_out))\n",
    "    for i in range(df.shape[0] - (num_timesteps_in + num_timesteps_out))\n",
    "    if (df.index[i + (num_timesteps_in + num_timesteps_out)] - df.index[i]).seconds / 600 == num_timesteps_in + num_timesteps_out\n",
    "]"
   ]
  },
  {
   "cell_type": "code",
   "execution_count": null,
   "id": "421e8332",
   "metadata": {},
   "outputs": [],
   "source": [
    "import random\n",
    "import torch"
   ]
  },
  {
   "cell_type": "code",
   "execution_count": null,
   "id": "dcd596ad",
   "metadata": {},
   "outputs": [],
   "source": [
    "random.shuffle(indices)"
   ]
  },
  {
   "cell_type": "code",
   "execution_count": null,
   "id": "5365488e",
   "metadata": {},
   "outputs": [],
   "source": [
    "col_names = list(df.columns)\n",
    "index_val = df.index"
   ]
  },
  {
   "cell_type": "code",
   "execution_count": null,
   "id": "20a0d88e",
   "metadata": {},
   "outputs": [],
   "source": [
    "fog_col = [_col for _col in col_names if 'Fog' in _col]"
   ]
  },
  {
   "cell_type": "code",
   "execution_count": null,
   "id": "4f1c6a24",
   "metadata": {},
   "outputs": [],
   "source": [
    "columns = [_col for _col in col_names if _col not in fog_col]"
   ]
  },
  {
   "cell_type": "code",
   "execution_count": null,
   "id": "07bad7f5",
   "metadata": {},
   "outputs": [],
   "source": [
    "dataframe = df[columns]\n",
    "fog_df = df[fog_col]"
   ]
  },
  {
   "cell_type": "code",
   "execution_count": null,
   "id": "996544db",
   "metadata": {},
   "outputs": [],
   "source": [
    "import sys\n",
    "\n",
    "sys.path.append('../src')"
   ]
  },
  {
   "cell_type": "code",
   "execution_count": null,
   "id": "53cfa668",
   "metadata": {},
   "outputs": [],
   "source": [
    "features, target, anomaly = [], [], []\n",
    "\n",
    "for i, j in indices:\n",
    "    features.append(dataframe.iloc[i: i + num_timesteps_in].T.values)\n",
    "    target.append(dataframe.iloc[i + num_timesteps_in: j].T.values)\n",
    "    anomaly.append(fog_df.iloc[i + num_timesteps_in:j].T.values[:, 0])\n",
    "    \n",
    "#     temp = fog_df.iloc[i + num_timesteps_in:j].T.values\n",
    "#     anomaly.append(np.array([1 if sum(_row) >= 1 else 0 for _row in temp]).T)\n",
    "\n",
    "features = torch.FloatTensor(np.array(features))\n",
    "targets = torch.FloatTensor(np.array(target))\n",
    "anomaly_point = torch.Tensor(np.array(anomaly))"
   ]
  },
  {
   "cell_type": "code",
   "execution_count": null,
   "id": "c71b4bc9",
   "metadata": {},
   "outputs": [],
   "source": [
    "total_samples = anomaly_point.shape[0]\n",
    "\n",
    "nSamples = [[total_samples-int(num_samples), int(num_samples)] for num_samples in sum(anomaly_point)]"
   ]
  },
  {
   "cell_type": "code",
   "execution_count": null,
   "id": "24e13587",
   "metadata": {},
   "outputs": [],
   "source": [
    "nSamples"
   ]
  },
  {
   "cell_type": "code",
   "execution_count": null,
   "id": "52f5cbb3",
   "metadata": {},
   "outputs": [],
   "source": [
    "normedWeights = [[1 - (x[0] / sum(x)), 1-(x[1] / sum(x))] for x in nSamples]"
   ]
  },
  {
   "cell_type": "code",
   "execution_count": null,
   "id": "b49c391b",
   "metadata": {},
   "outputs": [],
   "source": [
    "normedWeights"
   ]
  },
  {
   "cell_type": "code",
   "execution_count": null,
   "id": "2621b453",
   "metadata": {},
   "outputs": [],
   "source": [
    "from torch_geometric.data import Data\n",
    "from torch_geometric.loader import DataLoader"
   ]
  },
  {
   "cell_type": "code",
   "execution_count": null,
   "id": "73814465",
   "metadata": {},
   "outputs": [],
   "source": [
    "_data = []\n",
    "\n",
    "for batch in range(len(indices)):\n",
    "    _data.append(Data(x=features[batch], y=targets[batch], \n",
    "                      anomaly=anomaly_point[batch], time_stamp=None))\n",
    "    "
   ]
  },
  {
   "cell_type": "code",
   "execution_count": null,
   "id": "07be8e7f",
   "metadata": {},
   "outputs": [],
   "source": [
    "loader = DataLoader(_data, batch_size=64, shuffle=True, \n",
    "                    drop_last=True, pin_memory=True)"
   ]
  },
  {
   "cell_type": "code",
   "execution_count": null,
   "id": "feb16b4c",
   "metadata": {},
   "outputs": [],
   "source": [
    "import torch\n",
    "import torch.nn as nn\n",
    "from torch.autograd import Variable"
   ]
  },
  {
   "cell_type": "code",
   "execution_count": null,
   "id": "18cbf407",
   "metadata": {},
   "outputs": [],
   "source": [
    "a = Variable(torch.Tensor([0]), requires_grad=True)"
   ]
  },
  {
   "cell_type": "code",
   "execution_count": null,
   "id": "0a749605",
   "metadata": {},
   "outputs": [],
   "source": [
    "temp = torch.Tensor(128,2)"
   ]
  },
  {
   "cell_type": "code",
   "execution_count": null,
   "id": "05957139",
   "metadata": {},
   "outputs": [],
   "source": [
    "node_list = [10, 21, 32, 43, 54]"
   ]
  },
  {
   "cell_type": "code",
   "execution_count": null,
   "id": "689323c8",
   "metadata": {},
   "outputs": [],
   "source": [
    "selected = [temp[node] for node in range(temp.shape[0]) if node in node_list]"
   ]
  },
  {
   "cell_type": "code",
   "execution_count": null,
   "id": "a7e2630e",
   "metadata": {},
   "outputs": [],
   "source": [
    "m = nn.Softmax(dim=-1)"
   ]
  },
  {
   "cell_type": "code",
   "execution_count": null,
   "id": "95ad69af",
   "metadata": {},
   "outputs": [],
   "source": [
    "out = m(temp)"
   ]
  },
  {
   "cell_type": "code",
   "execution_count": null,
   "id": "cca028e0",
   "metadata": {},
   "outputs": [],
   "source": [
    "out.shape"
   ]
  },
  {
   "cell_type": "code",
   "execution_count": null,
   "id": "b3bcc0f0",
   "metadata": {},
   "outputs": [],
   "source": [
    "classification_output = torch.zeros(size=(128, \n",
    "                                          len(node_list), \n",
    "                                          2))\n",
    "\n"
   ]
  },
  {
   "cell_type": "code",
   "execution_count": null,
   "id": "07b49947",
   "metadata": {},
   "outputs": [],
   "source": [
    "classification_output[:,0,:] = out"
   ]
  },
  {
   "cell_type": "code",
   "execution_count": null,
   "id": "de918247",
   "metadata": {},
   "outputs": [],
   "source": [
    "classification_output.shape"
   ]
  },
  {
   "cell_type": "code",
   "execution_count": null,
   "id": "0b0452c4",
   "metadata": {},
   "outputs": [],
   "source": [
    "fnc = nn.CrossEntropyLoss()"
   ]
  },
  {
   "cell_type": "code",
   "execution_count": null,
   "id": "fec31c15",
   "metadata": {},
   "outputs": [],
   "source": [
    "fnc(classification_output[:,0,:], torch.zeros(size=(128, \n",
    "                                          2))\n",
    ")"
   ]
  },
  {
   "cell_type": "code",
   "execution_count": null,
   "id": "83ab54e9",
   "metadata": {},
   "outputs": [],
   "source": []
  }
 ],
 "metadata": {
  "kernelspec": {
   "display_name": "Python 3 (ipykernel)",
   "language": "python",
   "name": "python3"
  },
  "language_info": {
   "codemirror_mode": {
    "name": "ipython",
    "version": 3
   },
   "file_extension": ".py",
   "mimetype": "text/x-python",
   "name": "python",
   "nbconvert_exporter": "python",
   "pygments_lexer": "ipython3",
   "version": "3.8.13"
  }
 },
 "nbformat": 4,
 "nbformat_minor": 5
}
