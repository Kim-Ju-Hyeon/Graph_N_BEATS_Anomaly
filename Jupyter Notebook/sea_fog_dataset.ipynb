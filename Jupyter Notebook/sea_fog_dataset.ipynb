{
 "cells": [
  {
   "cell_type": "code",
   "execution_count": 1,
   "id": "5c873c9f",
   "metadata": {},
   "outputs": [],
   "source": [
    "import os\n",
    "from glob import glob\n",
    "import pickle\n",
    "\n",
    "import joblib\n",
    "\n",
    "import numpy as np\n",
    "import pandas as pd\n",
    "import matplotlib.pyplot as plt"
   ]
  },
  {
   "cell_type": "code",
   "execution_count": 2,
   "id": "cc19dbbe",
   "metadata": {},
   "outputs": [],
   "source": [
    "data_dir = glob('../src/data/SeaFog/*.csv')"
   ]
  },
  {
   "cell_type": "code",
   "execution_count": 3,
   "id": "af3c82b6",
   "metadata": {},
   "outputs": [],
   "source": [
    "data_dir.sort()"
   ]
  },
  {
   "cell_type": "code",
   "execution_count": 4,
   "id": "8b0ed688",
   "metadata": {},
   "outputs": [
    {
     "data": {
      "text/plain": [
       "['../src/data/SeaFog/302_증산도.csv',\n",
       " '../src/data/SeaFog/771_불무기도.csv',\n",
       " '../src/data/SeaFog/772_장도.csv',\n",
       " '../src/data/SeaFog/789_목포구.csv',\n",
       " '../src/data/SeaFog/SF_0008_여수 해무관측소.csv']"
      ]
     },
     "execution_count": 4,
     "metadata": {},
     "output_type": "execute_result"
    }
   ],
   "source": [
    "data_dir"
   ]
  },
  {
   "cell_type": "code",
   "execution_count": 5,
   "id": "89e5af8e",
   "metadata": {},
   "outputs": [],
   "source": [
    "col_list = ['지점 기온(°C)',\n",
    "'수온(°C)',\n",
    "'강수량 1분(mm)',\n",
    "'풍속(m/s)',\n",
    "'u',\n",
    "'v',\n",
    "\"현지기압(hPa)\",\n",
    "'해면기압(hPa)',\n",
    "'습도(%)',\n",
    "'일사(MJ/m^2)',\n",
    "'일조(Sec)',\n",
    "'T',\n",
    "'해기차(T-SST)',\n",
    "'이슬점온도(°C)',\n",
    "'기온',\n",
    "'이슬점온도(T-Td)',\n",
    "'수온',\n",
    "'이슬점온도(°C)',\n",
    "'vis']\n"
   ]
  },
  {
   "cell_type": "code",
   "execution_count": 6,
   "id": "4a0f0cbb",
   "metadata": {},
   "outputs": [],
   "source": [
    "col = ['기온(°C)',\n",
    " '수온(°C)',\n",
    " '풍속(m/s)',\n",
    " 'u',\n",
    " 'v',\n",
    " '습도(%)',\n",
    " '해기차(T-SST)',\n",
    " '이슬점온도(°C)',\n",
    " '기온-이슬점온도(T-Td)',\n",
    " '수온-이슬점온도(°C)',\n",
    " 'vis']"
   ]
  },
  {
   "cell_type": "code",
   "execution_count": 7,
   "id": "76274d2f",
   "metadata": {},
   "outputs": [],
   "source": [
    "new_col = ['t', 'st', 'ws', 'u', 'v', 'h', 'astd', \n",
    "          'dp', 't-dp', 'st-dp', 'vis']"
   ]
  },
  {
   "cell_type": "code",
   "execution_count": 8,
   "id": "22588bb6",
   "metadata": {
    "scrolled": true
   },
   "outputs": [
    {
     "name": "stderr",
     "output_type": "stream",
     "text": [
      "/opt/anaconda3/envs/GraphStructureLearning/lib/python3.8/site-packages/pandas/core/frame.py:5039: SettingWithCopyWarning: \n",
      "A value is trying to be set on a copy of a slice from a DataFrame\n",
      "\n",
      "See the caveats in the documentation: https://pandas.pydata.org/pandas-docs/stable/user_guide/indexing.html#returning-a-view-versus-a-copy\n",
      "  return super().rename(\n"
     ]
    }
   ],
   "source": [
    "temp_1 = []\n",
    "temp_2 = []\n",
    "target_col_name = []\n",
    "\n",
    "for ii, _dir in enumerate(data_dir):\n",
    "    data = pd.read_csv(_dir, index_col=0, encoding='cp949')\n",
    "    island_name = data['지점'][0]\n",
    "    data = data[data.index >= '2019-12-14 09:00:00']\n",
    "    data.drop('지점', axis=1, inplace=True)\n",
    "    data.drop('해면기압(hPa)', axis=1, inplace=True)\n",
    "    \n",
    "    if ii < len(data_dir)-1:\n",
    "        data.drop('일사(MJ/m^2)', axis=1, inplace=True)\n",
    "        data.drop('일조(Sec)', axis=1, inplace=True)\n",
    "        data.drop('1분 강수량(mm)', axis=1, inplace=True)\n",
    "        data.drop('현지기압(hPa)', axis=1, inplace=True)\n",
    "        data.drop('T', axis=1, inplace=True)\n",
    "        \n",
    "    df_1 = data[data.index <= '2021-06-01 23:50:00']\n",
    "    df_2 = data[data.index >= '2021-07-01 00:00:00']\n",
    "\n",
    "\n",
    "    col_name_change = {col[i]:str(island_name)+'_'+new_col[i] for i in range(len(new_col))}\n",
    "    \n",
    "    df_1.rename(columns=col_name_change, inplace=True)\n",
    "    df_2.rename(columns=col_name_change, inplace=True)\n",
    "    \n",
    "\n",
    "    target_col_name.append(str(island_name)+'_vis')\n",
    "        \n",
    "    temp_1.append(df_1)\n",
    "    temp_2.append(df_2)"
   ]
  },
  {
   "cell_type": "code",
   "execution_count": 9,
   "id": "bc733a7a",
   "metadata": {},
   "outputs": [],
   "source": [
    "dataframe_1 = pd.DataFrame()\n",
    "\n",
    "for df in temp_1:\n",
    "    dataframe_1 = pd.concat([dataframe_1, df], axis=1)\n",
    "    \n",
    "dataframe_2 = pd.DataFrame()\n",
    "\n",
    "for df in temp_2:\n",
    "    dataframe_2 = pd.concat([dataframe_2, df], axis=1)"
   ]
  },
  {
   "cell_type": "code",
   "execution_count": 10,
   "id": "33ab3469",
   "metadata": {},
   "outputs": [],
   "source": [
    "dataframe_1.dropna(inplace=True)\n",
    "dataframe_2.dropna(inplace=True)"
   ]
  },
  {
   "cell_type": "code",
   "execution_count": 11,
   "id": "7b34f4e2",
   "metadata": {},
   "outputs": [],
   "source": [
    "dataframe_1.index = pd.to_datetime(dataframe_1.index)\n",
    "dataframe_2.index = pd.to_datetime(dataframe_2.index)"
   ]
  },
  {
   "cell_type": "code",
   "execution_count": 12,
   "id": "9f7465e2",
   "metadata": {},
   "outputs": [],
   "source": [
    "for _col in target_col_name:\n",
    "    dataframe_1.loc[dataframe_1[_col] >= 3000 , _col] = 3000\n",
    "    dataframe_2.loc[dataframe_2[_col] >= 3000 , _col] = 3000"
   ]
  },
  {
   "cell_type": "code",
   "execution_count": null,
   "id": "3dddf88a",
   "metadata": {
    "scrolled": true
   },
   "outputs": [],
   "source": [
    "for _col in target_col_name:\n",
    "    plt.plot(dataframe_1[_col])\n",
    "    plt.show()"
   ]
  },
  {
   "cell_type": "code",
   "execution_count": null,
   "id": "3caf7389",
   "metadata": {
    "scrolled": true
   },
   "outputs": [],
   "source": [
    "for _col in target_col_name:\n",
    "    plt.plot(dataframe_2[_col][144:144*4])\n",
    "    plt.show()"
   ]
  },
  {
   "cell_type": "code",
   "execution_count": 13,
   "id": "f3bdf535",
   "metadata": {},
   "outputs": [],
   "source": [
    "num_timesteps_in = 6*20\n",
    "num_timesteps_out = 6"
   ]
  },
  {
   "cell_type": "code",
   "execution_count": 14,
   "id": "a7b15ba1",
   "metadata": {},
   "outputs": [],
   "source": [
    "df = pd.concat([dataframe_1, dataframe_2], axis=0)"
   ]
  },
  {
   "cell_type": "code",
   "execution_count": 15,
   "id": "c32f1a4b",
   "metadata": {},
   "outputs": [],
   "source": [
    "indices = [\n",
    "    (i, i + (num_timesteps_in + num_timesteps_out))\n",
    "    for i in range(df.shape[0] - (num_timesteps_in + num_timesteps_out))\n",
    "    if (df.index[i + (num_timesteps_in + num_timesteps_out)] - df.index[i]).seconds / 600 == num_timesteps_in + num_timesteps_out\n",
    "]"
   ]
  },
  {
   "cell_type": "code",
   "execution_count": 17,
   "id": "c67c86cc",
   "metadata": {},
   "outputs": [
    {
     "data": {
      "text/plain": [
       "35440"
      ]
     },
     "execution_count": 17,
     "metadata": {},
     "output_type": "execute_result"
    }
   ],
   "source": [
    "len(indices)"
   ]
  },
  {
   "cell_type": "code",
   "execution_count": 18,
   "id": "421e8332",
   "metadata": {},
   "outputs": [],
   "source": [
    "import random"
   ]
  },
  {
   "cell_type": "code",
   "execution_count": 19,
   "id": "dcd596ad",
   "metadata": {},
   "outputs": [],
   "source": [
    "random.shuffle(indices)"
   ]
  },
  {
   "cell_type": "code",
   "execution_count": 20,
   "id": "5365488e",
   "metadata": {},
   "outputs": [],
   "source": [
    "col_names = df.columns\n",
    "index_val = df.index"
   ]
  },
  {
   "cell_type": "code",
   "execution_count": 22,
   "id": "996544db",
   "metadata": {},
   "outputs": [],
   "source": [
    "import sys\n",
    "\n",
    "sys.path.append('../src')"
   ]
  },
  {
   "cell_type": "code",
   "execution_count": 23,
   "id": "5cb19398",
   "metadata": {},
   "outputs": [],
   "source": [
    "from utils.scalers import Scaler"
   ]
  },
  {
   "cell_type": "code",
   "execution_count": 24,
   "id": "31b4aa00",
   "metadata": {},
   "outputs": [],
   "source": [
    "scaler = Scaler('std')"
   ]
  },
  {
   "cell_type": "code",
   "execution_count": 25,
   "id": "ea76d41e",
   "metadata": {},
   "outputs": [],
   "source": [
    "scaled_df = scaler.scale(df.to_numpy().T)"
   ]
  },
  {
   "cell_type": "code",
   "execution_count": 26,
   "id": "5195b4fd",
   "metadata": {},
   "outputs": [],
   "source": [
    "scaled_df = pd.DataFrame(scaled_df.T, columns = list(col_names), index=index_val)"
   ]
  },
  {
   "cell_type": "code",
   "execution_count": 27,
   "id": "34cf8033",
   "metadata": {},
   "outputs": [
    {
     "data": {
      "text/html": [
       "<div>\n",
       "<style scoped>\n",
       "    .dataframe tbody tr th:only-of-type {\n",
       "        vertical-align: middle;\n",
       "    }\n",
       "\n",
       "    .dataframe tbody tr th {\n",
       "        vertical-align: top;\n",
       "    }\n",
       "\n",
       "    .dataframe thead th {\n",
       "        text-align: right;\n",
       "    }\n",
       "</style>\n",
       "<table border=\"1\" class=\"dataframe\">\n",
       "  <thead>\n",
       "    <tr style=\"text-align: right;\">\n",
       "      <th></th>\n",
       "      <th>302_t</th>\n",
       "      <th>302_st</th>\n",
       "      <th>302_ws</th>\n",
       "      <th>302_u</th>\n",
       "      <th>302_v</th>\n",
       "      <th>302_h</th>\n",
       "      <th>302_astd</th>\n",
       "      <th>302_dp</th>\n",
       "      <th>302_t-dp</th>\n",
       "      <th>302_st-dp</th>\n",
       "      <th>...</th>\n",
       "      <th>SF_0008_st</th>\n",
       "      <th>SF_0008_ws</th>\n",
       "      <th>SF_0008_u</th>\n",
       "      <th>SF_0008_v</th>\n",
       "      <th>SF_0008_h</th>\n",
       "      <th>SF_0008_astd</th>\n",
       "      <th>SF_0008_dp</th>\n",
       "      <th>SF_0008_t-dp</th>\n",
       "      <th>SF_0008_st-dp</th>\n",
       "      <th>SF_0008_vis</th>\n",
       "    </tr>\n",
       "    <tr>\n",
       "      <th>time</th>\n",
       "      <th></th>\n",
       "      <th></th>\n",
       "      <th></th>\n",
       "      <th></th>\n",
       "      <th></th>\n",
       "      <th></th>\n",
       "      <th></th>\n",
       "      <th></th>\n",
       "      <th></th>\n",
       "      <th></th>\n",
       "      <th></th>\n",
       "      <th></th>\n",
       "      <th></th>\n",
       "      <th></th>\n",
       "      <th></th>\n",
       "      <th></th>\n",
       "      <th></th>\n",
       "      <th></th>\n",
       "      <th></th>\n",
       "      <th></th>\n",
       "      <th></th>\n",
       "    </tr>\n",
       "  </thead>\n",
       "  <tbody>\n",
       "    <tr>\n",
       "      <th>2019-12-14 09:10:00</th>\n",
       "      <td>-0.825823</td>\n",
       "      <td>-0.684769</td>\n",
       "      <td>1.109198</td>\n",
       "      <td>0.402242</td>\n",
       "      <td>1.366727</td>\n",
       "      <td>-0.574049</td>\n",
       "      <td>-0.535403</td>\n",
       "      <td>-0.866709</td>\n",
       "      <td>0.462581</td>\n",
       "      <td>0.768693</td>\n",
       "      <td>...</td>\n",
       "      <td>-0.688982</td>\n",
       "      <td>-0.373554</td>\n",
       "      <td>-0.810470</td>\n",
       "      <td>-0.194980</td>\n",
       "      <td>-0.352511</td>\n",
       "      <td>-0.602252</td>\n",
       "      <td>-0.679141</td>\n",
       "      <td>0.226214</td>\n",
       "      <td>0.491964</td>\n",
       "      <td>0.076947</td>\n",
       "    </tr>\n",
       "    <tr>\n",
       "      <th>2019-12-14 09:20:00</th>\n",
       "      <td>-0.819658</td>\n",
       "      <td>-0.696716</td>\n",
       "      <td>1.144412</td>\n",
       "      <td>0.457001</td>\n",
       "      <td>1.382720</td>\n",
       "      <td>-0.693561</td>\n",
       "      <td>-0.502461</td>\n",
       "      <td>-0.917097</td>\n",
       "      <td>0.592307</td>\n",
       "      <td>0.848454</td>\n",
       "      <td>...</td>\n",
       "      <td>-0.688982</td>\n",
       "      <td>-0.483082</td>\n",
       "      <td>-0.725774</td>\n",
       "      <td>-0.148008</td>\n",
       "      <td>-0.493892</td>\n",
       "      <td>-0.546617</td>\n",
       "      <td>-0.727112</td>\n",
       "      <td>0.374868</td>\n",
       "      <td>0.575258</td>\n",
       "      <td>0.076947</td>\n",
       "    </tr>\n",
       "    <tr>\n",
       "      <th>2019-12-14 09:30:00</th>\n",
       "      <td>-0.809795</td>\n",
       "      <td>-0.704183</td>\n",
       "      <td>0.956602</td>\n",
       "      <td>0.911414</td>\n",
       "      <td>1.132977</td>\n",
       "      <td>-0.738856</td>\n",
       "      <td>-0.469519</td>\n",
       "      <td>-0.930396</td>\n",
       "      <td>0.642180</td>\n",
       "      <td>0.864076</td>\n",
       "      <td>...</td>\n",
       "      <td>-0.688982</td>\n",
       "      <td>-0.675065</td>\n",
       "      <td>-0.026357</td>\n",
       "      <td>-0.260200</td>\n",
       "      <td>-0.510956</td>\n",
       "      <td>-0.514407</td>\n",
       "      <td>-0.725338</td>\n",
       "      <td>0.393364</td>\n",
       "      <td>0.572177</td>\n",
       "      <td>0.076947</td>\n",
       "    </tr>\n",
       "    <tr>\n",
       "      <th>2019-12-14 09:40:00</th>\n",
       "      <td>-0.811028</td>\n",
       "      <td>-0.714637</td>\n",
       "      <td>1.196581</td>\n",
       "      <td>0.493888</td>\n",
       "      <td>1.425736</td>\n",
       "      <td>-0.681555</td>\n",
       "      <td>-0.454315</td>\n",
       "      <td>-0.904484</td>\n",
       "      <td>0.579146</td>\n",
       "      <td>0.802169</td>\n",
       "      <td>...</td>\n",
       "      <td>-0.688982</td>\n",
       "      <td>0.412835</td>\n",
       "      <td>0.762134</td>\n",
       "      <td>0.809099</td>\n",
       "      <td>-0.586521</td>\n",
       "      <td>-0.531976</td>\n",
       "      <td>-0.766251</td>\n",
       "      <td>0.474621</td>\n",
       "      <td>0.643216</td>\n",
       "      <td>0.076947</td>\n",
       "    </tr>\n",
       "    <tr>\n",
       "      <th>2019-12-14 09:50:00</th>\n",
       "      <td>-0.797466</td>\n",
       "      <td>-0.717623</td>\n",
       "      <td>1.097459</td>\n",
       "      <td>0.613026</td>\n",
       "      <td>1.339716</td>\n",
       "      <td>-0.669004</td>\n",
       "      <td>-0.421373</td>\n",
       "      <td>-0.887802</td>\n",
       "      <td>0.565812</td>\n",
       "      <td>0.767023</td>\n",
       "      <td>...</td>\n",
       "      <td>-0.688982</td>\n",
       "      <td>0.850949</td>\n",
       "      <td>0.502845</td>\n",
       "      <td>1.472110</td>\n",
       "      <td>-0.659650</td>\n",
       "      <td>-0.587611</td>\n",
       "      <td>-0.818054</td>\n",
       "      <td>0.554126</td>\n",
       "      <td>0.733164</td>\n",
       "      <td>0.076947</td>\n",
       "    </tr>\n",
       "    <tr>\n",
       "      <th>...</th>\n",
       "      <td>...</td>\n",
       "      <td>...</td>\n",
       "      <td>...</td>\n",
       "      <td>...</td>\n",
       "      <td>...</td>\n",
       "      <td>...</td>\n",
       "      <td>...</td>\n",
       "      <td>...</td>\n",
       "      <td>...</td>\n",
       "      <td>...</td>\n",
       "      <td>...</td>\n",
       "      <td>...</td>\n",
       "      <td>...</td>\n",
       "      <td>...</td>\n",
       "      <td>...</td>\n",
       "      <td>...</td>\n",
       "      <td>...</td>\n",
       "      <td>...</td>\n",
       "      <td>...</td>\n",
       "      <td>...</td>\n",
       "      <td>...</td>\n",
       "    </tr>\n",
       "    <tr>\n",
       "      <th>2022-06-30 23:10:00</th>\n",
       "      <td>1.218298</td>\n",
       "      <td>1.152063</td>\n",
       "      <td>-0.704339</td>\n",
       "      <td>0.378541</td>\n",
       "      <td>-0.810470</td>\n",
       "      <td>1.017268</td>\n",
       "      <td>0.549150</td>\n",
       "      <td>1.398165</td>\n",
       "      <td>-0.962448</td>\n",
       "      <td>-1.180391</td>\n",
       "      <td>...</td>\n",
       "      <td>1.020009</td>\n",
       "      <td>-0.876892</td>\n",
       "      <td>-0.028765</td>\n",
       "      <td>-0.637827</td>\n",
       "      <td>1.353815</td>\n",
       "      <td>0.633431</td>\n",
       "      <td>1.302334</td>\n",
       "      <td>-1.194605</td>\n",
       "      <td>-1.243841</td>\n",
       "      <td>0.076947</td>\n",
       "    </tr>\n",
       "    <tr>\n",
       "      <th>2022-06-30 23:20:00</th>\n",
       "      <td>1.202270</td>\n",
       "      <td>1.152063</td>\n",
       "      <td>-1.121041</td>\n",
       "      <td>0.075661</td>\n",
       "      <td>-0.515276</td>\n",
       "      <td>1.052740</td>\n",
       "      <td>0.516208</td>\n",
       "      <td>1.396612</td>\n",
       "      <td>-0.989234</td>\n",
       "      <td>-1.177470</td>\n",
       "      <td>...</td>\n",
       "      <td>1.020165</td>\n",
       "      <td>-1.226399</td>\n",
       "      <td>-0.067061</td>\n",
       "      <td>-0.329883</td>\n",
       "      <td>1.353815</td>\n",
       "      <td>0.653635</td>\n",
       "      <td>1.308611</td>\n",
       "      <td>-1.194605</td>\n",
       "      <td>-1.254583</td>\n",
       "      <td>0.076947</td>\n",
       "    </tr>\n",
       "    <tr>\n",
       "      <th>2022-06-30 23:30:00</th>\n",
       "      <td>1.210900</td>\n",
       "      <td>1.152063</td>\n",
       "      <td>-0.804112</td>\n",
       "      <td>0.414350</td>\n",
       "      <td>-0.734867</td>\n",
       "      <td>1.038005</td>\n",
       "      <td>0.533946</td>\n",
       "      <td>1.398864</td>\n",
       "      <td>-0.978128</td>\n",
       "      <td>-1.181707</td>\n",
       "      <td>...</td>\n",
       "      <td>1.022194</td>\n",
       "      <td>-1.241167</td>\n",
       "      <td>-0.033113</td>\n",
       "      <td>-0.317284</td>\n",
       "      <td>1.353815</td>\n",
       "      <td>0.659264</td>\n",
       "      <td>1.311500</td>\n",
       "      <td>-1.194605</td>\n",
       "      <td>-1.257576</td>\n",
       "      <td>0.076947</td>\n",
       "    </tr>\n",
       "    <tr>\n",
       "      <th>2022-06-30 23:40:00</th>\n",
       "      <td>1.218298</td>\n",
       "      <td>1.143103</td>\n",
       "      <td>-0.903886</td>\n",
       "      <td>0.239886</td>\n",
       "      <td>-0.675745</td>\n",
       "      <td>1.015085</td>\n",
       "      <td>0.564354</td>\n",
       "      <td>1.397459</td>\n",
       "      <td>-0.960796</td>\n",
       "      <td>-1.190342</td>\n",
       "      <td>...</td>\n",
       "      <td>1.027500</td>\n",
       "      <td>-1.275625</td>\n",
       "      <td>-0.047048</td>\n",
       "      <td>-0.290814</td>\n",
       "      <td>1.353815</td>\n",
       "      <td>0.657442</td>\n",
       "      <td>1.313990</td>\n",
       "      <td>-1.194605</td>\n",
       "      <td>-1.256607</td>\n",
       "      <td>0.076947</td>\n",
       "    </tr>\n",
       "    <tr>\n",
       "      <th>2022-06-30 23:50:00</th>\n",
       "      <td>1.220763</td>\n",
       "      <td>1.137129</td>\n",
       "      <td>-0.839327</td>\n",
       "      <td>0.100191</td>\n",
       "      <td>-0.724746</td>\n",
       "      <td>1.009628</td>\n",
       "      <td>0.579558</td>\n",
       "      <td>1.397686</td>\n",
       "      <td>-0.956646</td>\n",
       "      <td>-1.198287</td>\n",
       "      <td>...</td>\n",
       "      <td>1.023599</td>\n",
       "      <td>-1.118101</td>\n",
       "      <td>0.084531</td>\n",
       "      <td>-0.324225</td>\n",
       "      <td>1.353815</td>\n",
       "      <td>0.683063</td>\n",
       "      <td>1.319594</td>\n",
       "      <td>-1.194605</td>\n",
       "      <td>-1.270229</td>\n",
       "      <td>0.076947</td>\n",
       "    </tr>\n",
       "  </tbody>\n",
       "</table>\n",
       "<p>96391 rows × 55 columns</p>\n",
       "</div>"
      ],
      "text/plain": [
       "                        302_t    302_st    302_ws     302_u     302_v  \\\n",
       "time                                                                    \n",
       "2019-12-14 09:10:00 -0.825823 -0.684769  1.109198  0.402242  1.366727   \n",
       "2019-12-14 09:20:00 -0.819658 -0.696716  1.144412  0.457001  1.382720   \n",
       "2019-12-14 09:30:00 -0.809795 -0.704183  0.956602  0.911414  1.132977   \n",
       "2019-12-14 09:40:00 -0.811028 -0.714637  1.196581  0.493888  1.425736   \n",
       "2019-12-14 09:50:00 -0.797466 -0.717623  1.097459  0.613026  1.339716   \n",
       "...                       ...       ...       ...       ...       ...   \n",
       "2022-06-30 23:10:00  1.218298  1.152063 -0.704339  0.378541 -0.810470   \n",
       "2022-06-30 23:20:00  1.202270  1.152063 -1.121041  0.075661 -0.515276   \n",
       "2022-06-30 23:30:00  1.210900  1.152063 -0.804112  0.414350 -0.734867   \n",
       "2022-06-30 23:40:00  1.218298  1.143103 -0.903886  0.239886 -0.675745   \n",
       "2022-06-30 23:50:00  1.220763  1.137129 -0.839327  0.100191 -0.724746   \n",
       "\n",
       "                        302_h  302_astd    302_dp  302_t-dp  302_st-dp  ...  \\\n",
       "time                                                                    ...   \n",
       "2019-12-14 09:10:00 -0.574049 -0.535403 -0.866709  0.462581   0.768693  ...   \n",
       "2019-12-14 09:20:00 -0.693561 -0.502461 -0.917097  0.592307   0.848454  ...   \n",
       "2019-12-14 09:30:00 -0.738856 -0.469519 -0.930396  0.642180   0.864076  ...   \n",
       "2019-12-14 09:40:00 -0.681555 -0.454315 -0.904484  0.579146   0.802169  ...   \n",
       "2019-12-14 09:50:00 -0.669004 -0.421373 -0.887802  0.565812   0.767023  ...   \n",
       "...                       ...       ...       ...       ...        ...  ...   \n",
       "2022-06-30 23:10:00  1.017268  0.549150  1.398165 -0.962448  -1.180391  ...   \n",
       "2022-06-30 23:20:00  1.052740  0.516208  1.396612 -0.989234  -1.177470  ...   \n",
       "2022-06-30 23:30:00  1.038005  0.533946  1.398864 -0.978128  -1.181707  ...   \n",
       "2022-06-30 23:40:00  1.015085  0.564354  1.397459 -0.960796  -1.190342  ...   \n",
       "2022-06-30 23:50:00  1.009628  0.579558  1.397686 -0.956646  -1.198287  ...   \n",
       "\n",
       "                     SF_0008_st  SF_0008_ws  SF_0008_u  SF_0008_v  SF_0008_h  \\\n",
       "time                                                                           \n",
       "2019-12-14 09:10:00   -0.688982   -0.373554  -0.810470  -0.194980  -0.352511   \n",
       "2019-12-14 09:20:00   -0.688982   -0.483082  -0.725774  -0.148008  -0.493892   \n",
       "2019-12-14 09:30:00   -0.688982   -0.675065  -0.026357  -0.260200  -0.510956   \n",
       "2019-12-14 09:40:00   -0.688982    0.412835   0.762134   0.809099  -0.586521   \n",
       "2019-12-14 09:50:00   -0.688982    0.850949   0.502845   1.472110  -0.659650   \n",
       "...                         ...         ...        ...        ...        ...   \n",
       "2022-06-30 23:10:00    1.020009   -0.876892  -0.028765  -0.637827   1.353815   \n",
       "2022-06-30 23:20:00    1.020165   -1.226399  -0.067061  -0.329883   1.353815   \n",
       "2022-06-30 23:30:00    1.022194   -1.241167  -0.033113  -0.317284   1.353815   \n",
       "2022-06-30 23:40:00    1.027500   -1.275625  -0.047048  -0.290814   1.353815   \n",
       "2022-06-30 23:50:00    1.023599   -1.118101   0.084531  -0.324225   1.353815   \n",
       "\n",
       "                     SF_0008_astd  SF_0008_dp  SF_0008_t-dp  SF_0008_st-dp  \\\n",
       "time                                                                         \n",
       "2019-12-14 09:10:00     -0.602252   -0.679141      0.226214       0.491964   \n",
       "2019-12-14 09:20:00     -0.546617   -0.727112      0.374868       0.575258   \n",
       "2019-12-14 09:30:00     -0.514407   -0.725338      0.393364       0.572177   \n",
       "2019-12-14 09:40:00     -0.531976   -0.766251      0.474621       0.643216   \n",
       "2019-12-14 09:50:00     -0.587611   -0.818054      0.554126       0.733164   \n",
       "...                           ...         ...           ...            ...   \n",
       "2022-06-30 23:10:00      0.633431    1.302334     -1.194605      -1.243841   \n",
       "2022-06-30 23:20:00      0.653635    1.308611     -1.194605      -1.254583   \n",
       "2022-06-30 23:30:00      0.659264    1.311500     -1.194605      -1.257576   \n",
       "2022-06-30 23:40:00      0.657442    1.313990     -1.194605      -1.256607   \n",
       "2022-06-30 23:50:00      0.683063    1.319594     -1.194605      -1.270229   \n",
       "\n",
       "                     SF_0008_vis  \n",
       "time                              \n",
       "2019-12-14 09:10:00     0.076947  \n",
       "2019-12-14 09:20:00     0.076947  \n",
       "2019-12-14 09:30:00     0.076947  \n",
       "2019-12-14 09:40:00     0.076947  \n",
       "2019-12-14 09:50:00     0.076947  \n",
       "...                          ...  \n",
       "2022-06-30 23:10:00     0.076947  \n",
       "2022-06-30 23:20:00     0.076947  \n",
       "2022-06-30 23:30:00     0.076947  \n",
       "2022-06-30 23:40:00     0.076947  \n",
       "2022-06-30 23:50:00     0.076947  \n",
       "\n",
       "[96391 rows x 55 columns]"
      ]
     },
     "execution_count": 27,
     "metadata": {},
     "output_type": "execute_result"
    }
   ],
   "source": [
    "scaled_df"
   ]
  },
  {
   "cell_type": "code",
   "execution_count": 28,
   "id": "cd71b6e8",
   "metadata": {},
   "outputs": [
    {
     "data": {
      "text/plain": [
       "Index(['302_t', '302_st', '302_ws', '302_u', '302_v', '302_h', '302_astd',\n",
       "       '302_dp', '302_t-dp', '302_st-dp', '302_vis', '771_t', '771_st',\n",
       "       '771_ws', '771_u', '771_v', '771_h', '771_astd', '771_dp', '771_t-dp',\n",
       "       '771_st-dp', '771_vis', '772_t', '772_st', '772_ws', '772_u', '772_v',\n",
       "       '772_h', '772_astd', '772_dp', '772_t-dp', '772_st-dp', '772_vis',\n",
       "       '789_t', '789_st', '789_ws', '789_u', '789_v', '789_h', '789_astd',\n",
       "       '789_dp', '789_t-dp', '789_st-dp', '789_vis', 'SF_0008_t', 'SF_0008_st',\n",
       "       'SF_0008_ws', 'SF_0008_u', 'SF_0008_v', 'SF_0008_h', 'SF_0008_astd',\n",
       "       'SF_0008_dp', 'SF_0008_t-dp', 'SF_0008_st-dp', 'SF_0008_vis'],\n",
       "      dtype='object')"
      ]
     },
     "execution_count": 28,
     "metadata": {},
     "output_type": "execute_result"
    }
   ],
   "source": [
    "col_names"
   ]
  },
  {
   "cell_type": "code",
   "execution_count": 32,
   "id": "d55735b4",
   "metadata": {},
   "outputs": [],
   "source": [
    "arr = scaled_df.to_numpy()"
   ]
  },
  {
   "cell_type": "code",
   "execution_count": 33,
   "id": "7aa9557c",
   "metadata": {},
   "outputs": [
    {
     "data": {
      "text/plain": [
       "(96391, 55)"
      ]
     },
     "execution_count": 33,
     "metadata": {},
     "output_type": "execute_result"
    }
   ],
   "source": [
    "arr.shape"
   ]
  },
  {
   "cell_type": "code",
   "execution_count": 35,
   "id": "628ff622",
   "metadata": {},
   "outputs": [
    {
     "data": {
      "text/plain": [
       "(96391,)"
      ]
     },
     "execution_count": 35,
     "metadata": {},
     "output_type": "execute_result"
    }
   ],
   "source": [
    "arr[:, 10].shape"
   ]
  },
  {
   "cell_type": "code",
   "execution_count": 40,
   "id": "fc83bc41",
   "metadata": {},
   "outputs": [
    {
     "data": {
      "text/plain": [
       "[<matplotlib.lines.Line2D at 0x7fc956b35310>]"
      ]
     },
     "execution_count": 40,
     "metadata": {},
     "output_type": "execute_result"
    },
    {
     "data": {
      "image/png": "[encoded data removed]",
      "text/plain": [
       "<Figure size 432x288 with 1 Axes>"
      ]
     },
     "metadata": {
      "needs_background": "light"
     },
     "output_type": "display_data"
    }
   ],
   "source": [
    "plt.plot(arr[:, 10][144:144*30])"
   ]
  },
  {
   "cell_type": "code",
   "execution_count": null,
   "id": "018b1b38",
   "metadata": {},
   "outputs": [],
   "source": []
  }
 ],
 "metadata": {
  "kernelspec": {
   "display_name": "Python 3 (ipykernel)",
   "language": "python",
   "name": "python3"
  },
  "language_info": {
   "codemirror_mode": {
    "name": "ipython",
    "version": 3
   },
   "file_extension": ".py",
   "mimetype": "text/x-python",
   "name": "python",
   "nbconvert_exporter": "python",
   "pygments_lexer": "ipython3",
   "version": "3.8.13"
  }
 },
 "nbformat": 4,
 "nbformat_minor": 5
}
