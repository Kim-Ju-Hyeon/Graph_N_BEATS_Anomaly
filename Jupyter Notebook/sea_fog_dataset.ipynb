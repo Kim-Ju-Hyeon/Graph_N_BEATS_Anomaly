{
 "cells": [
  {
   "cell_type": "code",
   "execution_count": 1,
   "id": "5c873c9f",
   "metadata": {},
   "outputs": [],
   "source": [
    "import os\n",
    "from glob import glob\n",
    "import pickle\n",
    "\n",
    "import joblib\n",
    "\n",
    "import numpy as np\n",
    "import pandas as pd\n",
    "import matplotlib.pyplot as plt"
   ]
  },
  {
   "cell_type": "code",
   "execution_count": 2,
   "id": "cc19dbbe",
   "metadata": {},
   "outputs": [],
   "source": [
    "data_dir = glob('../src/data/SeaFog/*.csv')"
   ]
  },
  {
   "cell_type": "code",
   "execution_count": 3,
   "id": "af3c82b6",
   "metadata": {},
   "outputs": [],
   "source": [
    "data_dir.sort()"
   ]
  },
  {
   "cell_type": "code",
   "execution_count": 4,
   "id": "8b0ed688",
   "metadata": {},
   "outputs": [
    {
     "data": {
      "text/plain": [
       "['../src/data/SeaFog/302_증산도.csv',\n",
       " '../src/data/SeaFog/771_불무기도.csv',\n",
       " '../src/data/SeaFog/772_장도.csv',\n",
       " '../src/data/SeaFog/789_목포구.csv']"
      ]
     },
     "execution_count": 4,
     "metadata": {},
     "output_type": "execute_result"
    }
   ],
   "source": [
    "data_dir"
   ]
  },
  {
   "cell_type": "code",
   "execution_count": 5,
   "id": "89e5af8e",
   "metadata": {},
   "outputs": [],
   "source": [
    "col_list = ['지점 기온(°C)',\n",
    "'수온(°C)',\n",
    "'강수량 1분(mm)',\n",
    "'풍속(m/s)',\n",
    "'u',\n",
    "'v',\n",
    "\"현지기압(hPa)\",\n",
    "'해면기압(hPa)',\n",
    "'습도(%)',\n",
    "'일사(MJ/m^2)',\n",
    "'일조(Sec)',\n",
    "'T',\n",
    "'해기차(T-SST)',\n",
    "'이슬점온도(°C)',\n",
    "'기온',\n",
    "'이슬점온도(T-Td)',\n",
    "'수온',\n",
    "'이슬점온도(°C)',\n",
    "'vis']\n"
   ]
  },
  {
   "cell_type": "code",
   "execution_count": 6,
   "id": "4a0f0cbb",
   "metadata": {},
   "outputs": [],
   "source": [
    "col = ['기온(°C)',\n",
    " '수온(°C)',\n",
    " '풍속(m/s)',\n",
    " 'u',\n",
    " 'v',\n",
    " '습도(%)',\n",
    " '해기차(T-SST)',\n",
    " '이슬점온도(°C)',\n",
    " '기온-이슬점온도(T-Td)',\n",
    " '수온-이슬점온도(°C)',\n",
    " 'vis']"
   ]
  },
  {
   "cell_type": "code",
   "execution_count": 7,
   "id": "76274d2f",
   "metadata": {},
   "outputs": [],
   "source": [
    "new_col = ['t', 'st', 'ws', 'u', 'v', 'h', 'astd', \n",
    "          'dp', 't-dp', 'st-dp', 'vis']"
   ]
  },
  {
   "cell_type": "code",
   "execution_count": 8,
   "id": "22588bb6",
   "metadata": {
    "scrolled": true
   },
   "outputs": [
    {
     "name": "stderr",
     "output_type": "stream",
     "text": [
      "/Users/juhyeonkim/opt/anaconda3/envs/GSL/lib/python3.8/site-packages/pandas/core/frame.py:5039: SettingWithCopyWarning: \n",
      "A value is trying to be set on a copy of a slice from a DataFrame\n",
      "\n",
      "See the caveats in the documentation: https://pandas.pydata.org/pandas-docs/stable/user_guide/indexing.html#returning-a-view-versus-a-copy\n",
      "  return super().rename(\n"
     ]
    }
   ],
   "source": [
    "temp_1 = []\n",
    "temp_2 = []\n",
    "target_col_name = []\n",
    "\n",
    "for ii, _dir in enumerate(data_dir):\n",
    "    data = pd.read_csv(_dir, index_col=0, encoding='cp949')\n",
    "    island_name = data['지점'][0]\n",
    "    data = data[data.index >= '2019-12-14 09:00:00']\n",
    "    data.drop('지점', axis=1, inplace=True)\n",
    "    data.drop('해면기압(hPa)', axis=1, inplace=True)\n",
    "    \n",
    "    data.drop('일사(MJ/m^2)', axis=1, inplace=True)\n",
    "    data.drop('일조(Sec)', axis=1, inplace=True)\n",
    "    data.drop('1분 강수량(mm)', axis=1, inplace=True)\n",
    "    data.drop('현지기압(hPa)', axis=1, inplace=True)\n",
    "    data.drop('T', axis=1, inplace=True)\n",
    "        \n",
    "    df_1 = data[data.index <= '2021-06-01 23:50:00']\n",
    "    df_2 = data[data.index >= '2021-07-01 00:00:00']\n",
    "\n",
    "\n",
    "    col_name_change = {col[i]:str(island_name)+'_'+new_col[i] for i in range(len(new_col))}\n",
    "    \n",
    "    df_1.rename(columns=col_name_change, inplace=True)\n",
    "    df_2.rename(columns=col_name_change, inplace=True)\n",
    "    \n",
    "\n",
    "    target_col_name.append(str(island_name)+'_vis')\n",
    "        \n",
    "    temp_1.append(df_1)\n",
    "    temp_2.append(df_2)"
   ]
  },
  {
   "cell_type": "code",
   "execution_count": 9,
   "id": "bc733a7a",
   "metadata": {},
   "outputs": [],
   "source": [
    "dataframe_1 = pd.DataFrame()\n",
    "\n",
    "for df in temp_1:\n",
    "    dataframe_1 = pd.concat([dataframe_1, df], axis=1)\n",
    "    \n",
    "dataframe_2 = pd.DataFrame()\n",
    "\n",
    "for df in temp_2:\n",
    "    dataframe_2 = pd.concat([dataframe_2, df], axis=1)"
   ]
  },
  {
   "cell_type": "code",
   "execution_count": 10,
   "id": "33ab3469",
   "metadata": {},
   "outputs": [],
   "source": [
    "dataframe_1.dropna(inplace=True)\n",
    "dataframe_2.dropna(inplace=True)"
   ]
  },
  {
   "cell_type": "code",
   "execution_count": 11,
   "id": "7b34f4e2",
   "metadata": {},
   "outputs": [],
   "source": [
    "dataframe_1.index = pd.to_datetime(dataframe_1.index)\n",
    "dataframe_2.index = pd.to_datetime(dataframe_2.index)"
   ]
  },
  {
   "cell_type": "code",
   "execution_count": 13,
   "id": "cdef2373",
   "metadata": {},
   "outputs": [
    {
     "name": "stdout",
     "output_type": "stream",
     "text": [
      "time\n",
      "2021-07-01 11:20:00    13070.0\n",
      "2021-07-01 11:30:00    15420.0\n",
      "2021-07-01 11:40:00    15170.0\n",
      "2021-07-01 11:50:00    13350.0\n",
      "2021-07-01 12:00:00    14250.0\n",
      "                        ...   \n",
      "2022-06-30 23:10:00    20000.0\n",
      "2022-06-30 23:20:00    20000.0\n",
      "2022-06-30 23:30:00    20000.0\n",
      "2022-06-30 23:40:00    20000.0\n",
      "2022-06-30 23:50:00    20000.0\n",
      "Name: 302_vis, Length: 45445, dtype: float64\n",
      "time\n",
      "2021-07-01 11:20:00    13180.0\n",
      "2021-07-01 11:30:00    15830.0\n",
      "2021-07-01 11:40:00    15950.0\n",
      "2021-07-01 11:50:00    16950.0\n",
      "2021-07-01 12:00:00    20000.0\n",
      "                        ...   \n",
      "2022-06-30 23:10:00    20000.0\n",
      "2022-06-30 23:20:00    20000.0\n",
      "2022-06-30 23:30:00    20000.0\n",
      "2022-06-30 23:40:00    20000.0\n",
      "2022-06-30 23:50:00    20000.0\n",
      "Name: 771_vis, Length: 45445, dtype: float64\n",
      "time\n",
      "2021-07-01 11:20:00    13500.0\n",
      "2021-07-01 11:30:00    15030.0\n",
      "2021-07-01 11:40:00    12870.0\n",
      "2021-07-01 11:50:00    15170.0\n",
      "2021-07-01 12:00:00    18180.0\n",
      "                        ...   \n",
      "2022-06-30 23:10:00    18650.0\n",
      "2022-06-30 23:20:00    17290.0\n",
      "2022-06-30 23:30:00     9880.0\n",
      "2022-06-30 23:40:00     8900.0\n",
      "2022-06-30 23:50:00    20000.0\n",
      "Name: 772_vis, Length: 45445, dtype: float64\n",
      "time\n",
      "2021-07-01 11:20:00    13010.0\n",
      "2021-07-01 11:30:00    13960.0\n",
      "2021-07-01 11:40:00    15000.0\n",
      "2021-07-01 11:50:00    16430.0\n",
      "2021-07-01 12:00:00    16150.0\n",
      "                        ...   \n",
      "2022-06-30 23:10:00    20000.0\n",
      "2022-06-30 23:20:00    20000.0\n",
      "2022-06-30 23:30:00    20000.0\n",
      "2022-06-30 23:40:00    20000.0\n",
      "2022-06-30 23:50:00    20000.0\n",
      "Name: 789_vis, Length: 45445, dtype: float64\n"
     ]
    }
   ],
   "source": [
    "for col in target_col_name:\n",
    "    print(dataframe_2[col])"
   ]
  },
  {
   "cell_type": "code",
   "execution_count": 12,
   "id": "3dddf88a",
   "metadata": {
    "scrolled": false
   },
   "outputs": [
    {
     "name": "stdout",
     "output_type": "stream",
     "text": [
      "count    4.544500e+04\n",
      "mean     3.443546e+04\n",
      "std      3.805241e+05\n",
      "min      6.000000e+01\n",
      "25%      1.418000e+04\n",
      "50%      2.000000e+04\n",
      "75%      2.000000e+04\n",
      "max      8.189999e+06\n",
      "Name: 302_vis, dtype: float64\n"
     ]
    },
    {
     "data": {
      "image/png": "[encoded data removed]",
      "text/plain": [
       "<Figure size 640x480 with 1 Axes>"
      ]
     },
     "metadata": {},
     "output_type": "display_data"
    },
    {
     "name": "stdout",
     "output_type": "stream",
     "text": [
      "count    4.544500e+04\n",
      "mean     2.917913e+04\n",
      "std      3.121737e+05\n",
      "min      1.000000e+01\n",
      "25%      1.637000e+04\n",
      "50%      2.000000e+04\n",
      "75%      2.000000e+04\n",
      "max      8.189999e+06\n",
      "Name: 771_vis, dtype: float64\n"
     ]
    },
    {
     "data": {
      "image/png": "[encoded data removed]",
      "text/plain": [
       "<Figure size 640x480 with 1 Axes>"
      ]
     },
     "metadata": {},
     "output_type": "display_data"
    },
    {
     "name": "stdout",
     "output_type": "stream",
     "text": [
      "count    4.544500e+04\n",
      "mean     3.170809e+04\n",
      "std      3.514242e+05\n",
      "min      1.000000e+01\n",
      "25%      1.379000e+04\n",
      "50%      2.000000e+04\n",
      "75%      2.000000e+04\n",
      "max      8.189999e+06\n",
      "Name: 772_vis, dtype: float64\n"
     ]
    },
    {
     "data": {
      "image/png": "[encoded data removed]",
      "text/plain": [
       "<Figure size 640x480 with 1 Axes>"
      ]
     },
     "metadata": {},
     "output_type": "display_data"
    },
    {
     "name": "stdout",
     "output_type": "stream",
     "text": [
      "count    4.544500e+04\n",
      "mean     2.642983e+04\n",
      "std      2.672516e+05\n",
      "min      9.000000e+01\n",
      "25%      1.743000e+04\n",
      "50%      2.000000e+04\n",
      "75%      2.000000e+04\n",
      "max      8.189999e+06\n",
      "Name: 789_vis, dtype: float64\n"
     ]
    },
    {
     "data": {
      "image/png": "[encoded data removed]",
      "text/plain": [
       "<Figure size 640x480 with 1 Axes>"
      ]
     },
     "metadata": {},
     "output_type": "display_data"
    }
   ],
   "source": [
    "for col in target_col_name:\n",
    "    print(dataframe_2[col].describe())\n",
    "    plt.plot(dataframe_2[col])\n",
    "    plt.show()"
   ]
  },
  {
   "cell_type": "code",
   "execution_count": null,
   "id": "3caf7389",
   "metadata": {},
   "outputs": [],
   "source": []
  }
 ],
 "metadata": {
  "kernelspec": {
   "display_name": "Python 3 (ipykernel)",
   "language": "python",
   "name": "python3"
  },
  "language_info": {
   "codemirror_mode": {
    "name": "ipython",
    "version": 3
   },
   "file_extension": ".py",
   "mimetype": "text/x-python",
   "name": "python",
   "nbconvert_exporter": "python",
   "pygments_lexer": "ipython3",
   "version": "3.8.13"
  }
 },
 "nbformat": 4,
 "nbformat_minor": 5
}
